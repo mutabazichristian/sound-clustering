{
 "cells": [
  {
   "cell_type": "markdown",
   "id": "4e889a80",
   "metadata": {},
   "source": [
    "# Clustering Unlabeled Sound Data\n",
    "\n",
    "## Assignment\n",
    "\n",
    "Complete the tasks in the notebook and document your observations in the markdown cells."
   ]
  },
  {
   "cell_type": "code",
   "execution_count": null,
   "id": "c9ba0bdd",
   "metadata": {},
   "outputs": [],
   "source": [
    "\n",
    "#Make allNecessary Imports\n"
   ]
  },
  {
   "cell_type": "code",
   "execution_count": null,
   "id": "5ac5f575",
   "metadata": {},
   "outputs": [],
   "source": [
    "\n",
    "# Load the Data\n",
    "unlabelled_data_path = None\n",
    "\n",
    "features = []\n",
    "#Extract Features"
   ]
  },
  {
   "cell_type": "code",
   "execution_count": null,
   "id": "31d6cb09",
   "metadata": {},
   "outputs": [],
   "source": [
    "\n",
    "# Scatter plot (Attempt without dimensionality reduction)\n",
    "plt.figure(figsize=(8,6))\n",
    "plt.scatter()\n",
    "plt.xlabel(\"Feature 1\")\n",
    "plt.ylabel(\"Feature 2\")\n",
    "plt.title(\"Scatter Plot of Raw Features (Without Dimensionality Reduction)\")\n",
    "plt.show()\n",
    "\n",
    "# Pair plot (Only using first 5 features)\n",
    "df = None\n",
    "sns.pairplot(None)\n",
    "plt.show()\n"
   ]
  },
  {
   "cell_type": "markdown",
   "id": "deab977c",
   "metadata": {},
   "source": [
    "### Why is dimensionality reduction important?\n",
    "(*Document any challenges/errors from the above experiments.*)"
   ]
  },
  {
   "cell_type": "code",
   "execution_count": null,
   "id": "47306cc9",
   "metadata": {},
   "outputs": [],
   "source": [
    "\n",
    "# Apply PCA (3 components)\n",
    "pca = None\n",
    "features_pca = None\n",
    "\n",
    "# Apply t-SNE (3 components)\n",
    "tsne = None\n",
    "features_tsne = None\n",
    "\n",
    "# 3D Visualization goes here\n",
    "\n"
   ]
  },
  {
   "cell_type": "markdown",
   "id": "e1a9a0cd",
   "metadata": {},
   "source": [
    "### Which method (PCA or t-SNE) provides better separability of clusters and why?\n",
    "(*Write based on your visualizations.*)"
   ]
  },
  {
   "cell_type": "code",
   "execution_count": null,
   "id": "5e2e7a1e",
   "metadata": {},
   "outputs": [],
   "source": [
    "\n",
    "# Optimize number of clusters using Elbow Method\n",
    "\n",
    "kmeans = KMeans(None)\n",
    "    \n"
   ]
  },
  {
   "cell_type": "code",
   "execution_count": null,
   "id": "4890d133",
   "metadata": {},
   "outputs": [],
   "source": [
    "\n",
    "# Select optimal K based on elbow method (e.g., k=3)\n",
    "optimal_k = None\n",
    "kmeans = KMeans(n_clusters=optimal_k, random_state=42)\n",
    "kmeans_labels = kmeans.fit_predict(features_array)\n",
    "\n",
    "# Apply DBSCAN\n",
    "dbscan = DBSCAN(eps=5, min_samples=3)\n",
    "dbscan_labels = dbscan.fit_predict(features_array)\n",
    "\n",
    "# Scatter Plot for K-Means Clusters\n",
    "\n",
    "\n",
    "# Scatter Plot for DBSCAN Clusters\n",
    "\n"
   ]
  },
  {
   "cell_type": "code",
   "execution_count": null,
   "id": "19e00b88",
   "metadata": {},
   "outputs": [],
   "source": [
    "\n",
    "# Evaluate clustering\n",
    "kmeans_silhouette = silhouette_score(features_array, kmeans_labels)\n",
    "kmeans_db_index = davies_bouldin_score(features_array, kmeans_labels)\n",
    "\n",
    "if len(set(dbscan_labels)) > 1:\n",
    "    dbscan_silhouette = silhouette_score(features_array, dbscan_labels)\n",
    "    dbscan_db_index = davies_bouldin_score(features_array, dbscan_labels)\n",
    "else:\n",
    "    dbscan_silhouette = None\n",
    "    dbscan_db_index = None\n",
    "\n",
    "print(f\"K-Means - Silhouette Score: {kmeans_silhouette:.4f}, Davies-Bouldin Index: {kmeans_db_index:.4f}\")\n",
    "if dbscan_silhouette is not None:\n",
    "    print(f\"DBSCAN - Silhouette Score: {dbscan_silhouette:.4f}, Davies-Bouldin Index: {dbscan_db_index:.4f}\")\n",
    "else:\n",
    "    print(\"DBSCAN failed to form meaningful clusters.\")\n"
   ]
  },
  {
   "cell_type": "markdown",
   "id": "fe8a8be5",
   "metadata": {},
   "source": [
    "### Discuss the results (max 5 lines)\n",
    "(*Compare K-Means and DBSCAN performance based on the outputs.*)"
   ]
  },
  {
   "cell_type": "code",
   "execution_count": null,
   "id": "e6736d9d",
   "metadata": {},
   "outputs": [],
   "source": [
    "\n",
    "# Final visualization using t-SNE\n",
    "plt.figure(figsize=(8, 5))\n",
    "plt.scatter(features_tsne[:, 0], features_tsne[:, 1], c=kmeans_labels, cmap='viridis', alpha=0.7)\n",
    "plt.xlabel(\"t-SNE Component 1\")\n",
    "plt.ylabel(\"t-SNE Component 2\")\n",
    "plt.title(\"Final Clusters (t-SNE Visualization with K-Means Labels)\")\n",
    "plt.show()\n"
   ]
  },
  {
   "cell_type": "markdown",
   "id": "569422b4",
   "metadata": {},
   "source": [
    "### Final Analysis\n",
    "- Explain why dimensionality reduction helped (or didn't) in clustering.\n",
    "- Justify why certain clustering methods worked better.\n",
    "- Relate findings to real-world clustering challenges."
   ]
  }
 ],
 "metadata": {
  "language_info": {
   "name": "python"
  }
 },
 "nbformat": 4,
 "nbformat_minor": 5
}
